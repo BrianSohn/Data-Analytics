{
 "cells": [
  {
   "cell_type": "markdown",
   "metadata": {},
   "source": [
    "<h1>Problem 1: Factorials using numpy</h1>\n",
    "<li><b>prod</b> A numpy function that returns the product of all elements in an array\n",
    "<li><b>cumprod</b> A numpy function on an ndarray of size n that returns an array of size n where each element i is the product of all elements from 0 to i\n"
   ]
  },
  {
   "cell_type": "code",
   "execution_count": 109,
   "metadata": {},
   "outputs": [],
   "source": [
    "import numpy as np\n",
    "import pandas as pd"
   ]
  },
  {
   "cell_type": "code",
   "execution_count": 110,
   "metadata": {},
   "outputs": [],
   "source": [
    "\"\"\"\n",
    "Replace pass with the code that uses ndarray, prod and cumprod \n",
    "to calculate the factorial of n\n",
    "\n",
    "The function should take an integer as an argument and return an integer\n",
    "\n",
    "\"\"\"\n",
    "def factorial(n):\n",
    "    array = np.arange(1,n+1)\n",
    "    return array.prod()\n",
    "\n",
    "\n",
    "\n"
   ]
  },
  {
   "cell_type": "code",
   "execution_count": 111,
   "metadata": {},
   "outputs": [
    {
     "data": {
      "text/plain": [
       "120"
      ]
     },
     "execution_count": 111,
     "metadata": {},
     "output_type": "execute_result"
    }
   ],
   "source": [
    "factorial(5)"
   ]
  },
  {
   "cell_type": "code",
   "execution_count": 112,
   "metadata": {},
   "outputs": [],
   "source": [
    "\"\"\"\n",
    "Replace pass with the code that uses ndarray, prod and cumprod to \n",
    "calculate the factorials of all values from 1 to n\n",
    "\n",
    "The function should take an integer as an argument and return an ndarray\n",
    "of size n \n",
    "\n",
    "\"\"\"\n",
    "\n",
    "def all_factorials(n):\n",
    "    array = np.arange(1,n+1)\n",
    "    return array.cumprod()"
   ]
  },
  {
   "cell_type": "code",
   "execution_count": 113,
   "metadata": {},
   "outputs": [
    {
     "data": {
      "text/plain": [
       "array([  1,   2,   6,  24, 120], dtype=int32)"
      ]
     },
     "execution_count": 113,
     "metadata": {},
     "output_type": "execute_result"
    }
   ],
   "source": [
    "all_factorials(5)"
   ]
  },
  {
   "cell_type": "markdown",
   "metadata": {},
   "source": [
    "<h1>Problem 2: Percent changes</h1>\n",
    "Write a function that constructs an ndarray from data in a file and \n",
    "returns a 1-period percent change on an ndarray after removing any nan values. Your function must make use of the following functions:\n",
    "<li>np.genfromtxt: https://docs.scipy.org/doc/numpy-1.13.0/reference/generated/numpy.genfromtxt.html\n",
    "<li>np.diff: https://docs.scipy.org/doc/numpy-1.13.0/reference/generated/numpy.diff.html\n",
    "<li>np.isnan: https://docs.scipy.org/doc/numpy-1.13.0/reference/generated/numpy.isnan.html\n",
    "\n",
    "<p>Test your function out using the attached apple.csv file. Your function can assume that the file structure is (date,price)\n",
    "\n",
    "<p>Note that percent change is defined as (p(t)-p(t-1))/p(t-1)\n",
    "\n",
    "<b>Example:</b><br>\n",
    "If the data array is: np.array([1,2,np.NaN,4,8,np.NAN])\n",
    "<br>\n",
    "The output array should be<br>\n",
    "array([ 1.,  1.,  1.])\n"
   ]
  },
  {
   "cell_type": "code",
   "execution_count": 117,
   "metadata": {},
   "outputs": [],
   "source": [
    "def get_pct_changes(file_name):\n",
    "    price_data = np.genfromtxt(file_name, delimiter=\",\", missing_values=\"null\", skip_header=1)[:,1]\n",
    "    final_price_data = price_data[~np.isnan(price_data)]\n",
    "\n",
    "    return np.diff(final_price_data)/final_price_data[:-1]"
   ]
  },
  {
   "cell_type": "code",
   "execution_count": 121,
   "metadata": {},
   "outputs": [
    {
     "data": {
      "text/plain": [
       "array([-0.05217305, -0.07339571,  0.02475207, ..., -0.00977899,\n",
       "       -0.00882215,  0.01720356])"
      ]
     },
     "execution_count": 121,
     "metadata": {},
     "output_type": "execute_result"
    }
   ],
   "source": [
    "get_pct_changes('apple.csv')"
   ]
  },
  {
   "cell_type": "code",
   "execution_count": 119,
   "metadata": {},
   "outputs": [
    {
     "data": {
      "text/html": [
       "<div>\n",
       "<style scoped>\n",
       "    .dataframe tbody tr th:only-of-type {\n",
       "        vertical-align: middle;\n",
       "    }\n",
       "\n",
       "    .dataframe tbody tr th {\n",
       "        vertical-align: top;\n",
       "    }\n",
       "\n",
       "    .dataframe thead th {\n",
       "        text-align: right;\n",
       "    }\n",
       "</style>\n",
       "<table border=\"1\" class=\"dataframe\">\n",
       "  <thead>\n",
       "    <tr style=\"text-align: right;\">\n",
       "      <th></th>\n",
       "      <th>Date</th>\n",
       "      <th>Adj Close</th>\n",
       "      <th>change</th>\n",
       "    </tr>\n",
       "  </thead>\n",
       "  <tbody>\n",
       "    <tr>\n",
       "      <th>0</th>\n",
       "      <td>1980-12-12</td>\n",
       "      <td>0.421597</td>\n",
       "      <td>NaN</td>\n",
       "    </tr>\n",
       "    <tr>\n",
       "      <th>1</th>\n",
       "      <td>1980-12-15</td>\n",
       "      <td>0.399601</td>\n",
       "      <td>-0.052173</td>\n",
       "    </tr>\n",
       "    <tr>\n",
       "      <th>2</th>\n",
       "      <td>1980-12-16</td>\n",
       "      <td>0.370272</td>\n",
       "      <td>-0.073396</td>\n",
       "    </tr>\n",
       "    <tr>\n",
       "      <th>3</th>\n",
       "      <td>1980-12-17</td>\n",
       "      <td>0.379437</td>\n",
       "      <td>0.024752</td>\n",
       "    </tr>\n",
       "    <tr>\n",
       "      <th>4</th>\n",
       "      <td>1980-12-18</td>\n",
       "      <td>0.390436</td>\n",
       "      <td>0.028988</td>\n",
       "    </tr>\n",
       "    <tr>\n",
       "      <th>...</th>\n",
       "      <td>...</td>\n",
       "      <td>...</td>\n",
       "      <td>...</td>\n",
       "    </tr>\n",
       "    <tr>\n",
       "      <th>9273</th>\n",
       "      <td>2017-09-20</td>\n",
       "      <td>156.070007</td>\n",
       "      <td>-0.016758</td>\n",
       "    </tr>\n",
       "    <tr>\n",
       "      <th>9274</th>\n",
       "      <td>2017-09-21</td>\n",
       "      <td>153.389999</td>\n",
       "      <td>-0.017172</td>\n",
       "    </tr>\n",
       "    <tr>\n",
       "      <th>9275</th>\n",
       "      <td>2017-09-22</td>\n",
       "      <td>151.889999</td>\n",
       "      <td>-0.009779</td>\n",
       "    </tr>\n",
       "    <tr>\n",
       "      <th>9276</th>\n",
       "      <td>2017-09-25</td>\n",
       "      <td>150.550003</td>\n",
       "      <td>-0.008822</td>\n",
       "    </tr>\n",
       "    <tr>\n",
       "      <th>9277</th>\n",
       "      <td>2017-09-26</td>\n",
       "      <td>153.139999</td>\n",
       "      <td>0.017204</td>\n",
       "    </tr>\n",
       "  </tbody>\n",
       "</table>\n",
       "<p>9278 rows × 3 columns</p>\n",
       "</div>"
      ],
      "text/plain": [
       "            Date   Adj Close    change\n",
       "0     1980-12-12    0.421597       NaN\n",
       "1     1980-12-15    0.399601 -0.052173\n",
       "2     1980-12-16    0.370272 -0.073396\n",
       "3     1980-12-17    0.379437  0.024752\n",
       "4     1980-12-18    0.390436  0.028988\n",
       "...          ...         ...       ...\n",
       "9273  2017-09-20  156.070007 -0.016758\n",
       "9274  2017-09-21  153.389999 -0.017172\n",
       "9275  2017-09-22  151.889999 -0.009779\n",
       "9276  2017-09-25  150.550003 -0.008822\n",
       "9277  2017-09-26  153.139999  0.017204\n",
       "\n",
       "[9278 rows x 3 columns]"
      ]
     },
     "execution_count": 119,
     "metadata": {},
     "output_type": "execute_result"
    }
   ],
   "source": [
    "# to check if same result\n",
    "apple = pd.read_csv('apple.csv')\n",
    "apple['change'] = apple['Adj Close'].pct_change()\n",
    "apple\n",
    "# apple['change'] has same values to get_pct_changes('apple.csv')"
   ]
  },
  {
   "cell_type": "markdown",
   "metadata": {},
   "source": [
    "<h1>Problem 3: Pandas Grouping</h1>\n",
    "Write a program that reads timeseries pricing data from a file into a pandas dataframe and then groups the data as follows:\n",
    "<li>Adds a column, one-day percent change to the file \n",
    "<li>Groups the data into four categories:\n",
    "<ul>\n",
    "<li>\"High+\" if the percent change is greater than 2.5%\n",
    "<li>\"Low+\" if the percent change is positive and less than or equal to 2.5% \n",
    "<li>\"Low-\" if the percent change is negative but greater than or equal to -2.5%\n",
    "<li>\"High-\" if the percent change is less than -2.5%\n",
    "</ul>\n",
    "<li>Report the size and the mean of each of the groups\n",
    "\n"
   ]
  },
  {
   "cell_type": "code",
   "execution_count": 138,
   "metadata": {},
   "outputs": [
    {
     "name": "stdout",
     "output_type": "stream",
     "text": [
      "High+    1391\n",
      "High-    1210\n",
      "Low+     3170\n",
      "Low-     3506\n",
      "dtype: int64\n",
      "       Adj Close    change\n",
      "High+   8.652295  0.045705\n",
      "High-   8.289065 -0.044220\n",
      "Low+   26.292799  0.011020\n",
      "Low-   21.827111 -0.010005\n"
     ]
    }
   ],
   "source": [
    "datafile = \"apple.csv\"\n",
    "import pandas as pd\n",
    "df = pd.read_csv(datafile,na_values='null')\n",
    "\n",
    "df['change'] = df['Adj Close'].pct_change()\n",
    "\n",
    "def categorize(x):\n",
    "    output = \"\"\n",
    "    if np.isnan(x):\n",
    "        output = np.nan\n",
    "    elif x>0.025: \n",
    "        output = \"High+\"\n",
    "    elif x>0:\n",
    "        output = \"Low+\"\n",
    "    elif x>=-0.025:\n",
    "        output = \"Low-\"\n",
    "    else:\n",
    "        output = \"High-\"\n",
    "    return output\n",
    "        \n",
    "grouped = df.groupby(lambda x: categorize(df.iloc[x,2]))\n",
    "print(grouped.size())\n",
    "print(grouped.mean())"
   ]
  },
  {
   "cell_type": "code",
   "execution_count": null,
   "metadata": {},
   "outputs": [],
   "source": []
  }
 ],
 "metadata": {
  "kernelspec": {
   "display_name": "Python 3",
   "language": "python",
   "name": "python3"
  },
  "language_info": {
   "codemirror_mode": {
    "name": "ipython",
    "version": 3
   },
   "file_extension": ".py",
   "mimetype": "text/x-python",
   "name": "python",
   "nbconvert_exporter": "python",
   "pygments_lexer": "ipython3",
   "version": "3.8.3"
  }
 },
 "nbformat": 4,
 "nbformat_minor": 2
}
