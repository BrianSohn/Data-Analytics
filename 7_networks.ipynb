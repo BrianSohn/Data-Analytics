{
 "cells": [
  {
   "cell_type": "markdown",
   "metadata": {},
   "source": [
    "<h1>Citibike Network Assignment</h1>\n",
    "<li>The file, 201809-citibike-tripdata.csv, contains citibike trip data from September 2018 (a reasonable sized file!)\n",
    "<li>The data:<br>\n",
    "\"tripduration\",\"starttime\",\"stoptime\",\"start station id\",\"start station name\",\"start station latitude\",\"start station longitude\",\"end station id\",\"end station name\",\"end station latitude\",\"end station longitude\",\"bikeid\",\"usertype\",\"birth year\",\"gender\"\n",
    "<li>Each record in the data is a trip \n",
    "<li>The data is described at https://www.citibikenyc.com/system-data"
   ]
  },
  {
   "cell_type": "markdown",
   "metadata": {},
   "source": [
    "<h1>STEP 1: Read the data into a dataframe</h1>\n",
    "<li>Convert station ids to str if necessary"
   ]
  },
  {
   "cell_type": "code",
   "execution_count": 2,
   "metadata": {},
   "outputs": [],
   "source": [
    "import pandas as pd\n",
    "import numpy as np\n",
    "import networkx as nx\n",
    "datafile = \"201801-citibike-tripdata.csv\"\n",
    "df = pd.read_csv(datafile)\n"
   ]
  },
  {
   "cell_type": "markdown",
   "metadata": {},
   "source": [
    "<h1>STEP 2: Basic cleaning</h1>\n",
    "<li>Remove data that have any nans in any row (none in this file but others do have nans)\n",
    "<li>and convert stationids to str "
   ]
  },
  {
   "cell_type": "code",
   "execution_count": 3,
   "metadata": {},
   "outputs": [
    {
     "name": "stdout",
     "output_type": "stream",
     "text": [
      "<class 'pandas.core.frame.DataFrame'>\n",
      "Int64Index: 718994 entries, 0 to 718993\n",
      "Data columns (total 15 columns):\n",
      " #   Column                   Non-Null Count   Dtype  \n",
      "---  ------                   --------------   -----  \n",
      " 0   tripduration             718994 non-null  int64  \n",
      " 1   starttime                718994 non-null  object \n",
      " 2   stoptime                 718994 non-null  object \n",
      " 3   start station id         718994 non-null  object \n",
      " 4   start station name       718994 non-null  object \n",
      " 5   start station latitude   718994 non-null  float64\n",
      " 6   start station longitude  718994 non-null  float64\n",
      " 7   end station id           718994 non-null  object \n",
      " 8   end station name         718994 non-null  object \n",
      " 9   end station latitude     718994 non-null  float64\n",
      " 10  end station longitude    718994 non-null  float64\n",
      " 11  bikeid                   718994 non-null  int64  \n",
      " 12  usertype                 718994 non-null  object \n",
      " 13  birth year               718994 non-null  int64  \n",
      " 14  gender                   718994 non-null  int64  \n",
      "dtypes: float64(4), int64(4), object(7)\n",
      "memory usage: 87.8+ MB\n"
     ]
    }
   ],
   "source": [
    "# no rows with nan values \n",
    "# convert stationid to str\n",
    "df.dropna(inplace=True)\n",
    "df['start station id'] = df['start station id'].astype(str)\n",
    "df['end station id'] = df['end station id'].astype(str)\n",
    "\n",
    "df.info()"
   ]
  },
  {
   "cell_type": "markdown",
   "metadata": {},
   "source": [
    "<h1>STEP 3: Write a function that returns a graph given a citibike data frame</h1> \n",
    "<li>Your function should return two things:\n",
    "<ol>\n",
    "<li>a graph\n",
    "<li>a dictionary with station ids as the key and station name as the value\n",
    "</ol>\n",
    "<li>The graph should contain \n",
    "<ol>\n",
    "<li>nodes (station ids)\n",
    "<li>edges (station id, station id)\n",
    "<li>edge data \n",
    "<ol>\n",
    "<li>count: number of trips on the edge\n",
    "<li>time: average duration - pickup to dropoff - on that edge\n",
    "</ol>\n",
    "</ol>\n",
    "<li><b>Note:</b> the edge (x1,y1) is the same as (y1,x1) even though the start station ids and end station ids are flipped in the dataframe"
   ]
  },
  {
   "cell_type": "code",
   "execution_count": 4,
   "metadata": {},
   "outputs": [],
   "source": [
    "def get_citibike_graph(df1):\n",
    "    import networkx as nx\n",
    "    G = nx.Graph()\n",
    "    node_names = dict()\n",
    "\n",
    "    #YOUR CODE GOES HERE\n",
    "    df2 = df1.copy()\n",
    "    start_names = df2.set_index('start station id').to_dict()['start station name']\n",
    "    end_names = df2.set_index('end station id').to_dict()['end station name']\n",
    "    node_names = {**start_names, **end_names}\n",
    "    \n",
    "    \n",
    "    df2[['start station id', 'end station id']] = pd.DataFrame(np.sort(df2[['start station id', 'end station id']].values, axis = 1))\n",
    "    edge_data = df2.groupby(['start station id', 'end station id'])['tripduration'].agg(['mean', 'size']).reset_index()\n",
    "    \n",
    "    nodes = list(node_names.keys())\n",
    "    G.add_nodes_from(nodes)\n",
    "\n",
    "    edges = list(zip(edge_data['start station id'], edge_data['end station id'], edge_data['size'], edge_data['mean']))\n",
    "    for e in edges:\n",
    "        G.add_edge(e[0], e[1], count=e[2], time=e[3])\n",
    "    \n",
    "    return G,node_names\n",
    "    "
   ]
  },
  {
   "cell_type": "markdown",
   "metadata": {},
   "source": [
    "<h1>STEP 4: Create the following graphs using the function above</h1>\n",
    "<li>G: A graph of all the data in the dataframe\n",
    "<li>m_G: A graph containing only data from male riders\n",
    "<li>f_G: A graph containing only data from female riders\n",
    "<li>Note: for m_G and f_G you will need to extract data from the dataframe"
   ]
  },
  {
   "cell_type": "code",
   "execution_count": 5,
   "metadata": {},
   "outputs": [],
   "source": [
    "G,nodes=get_citibike_graph(df)"
   ]
  },
  {
   "cell_type": "code",
   "execution_count": 6,
   "metadata": {},
   "outputs": [],
   "source": [
    "m_df = df[df['gender']==1].reset_index(drop=True)\n",
    "m_G = get_citibike_graph(m_df)[0]"
   ]
  },
  {
   "cell_type": "code",
   "execution_count": 7,
   "metadata": {},
   "outputs": [],
   "source": [
    "f_df = df[df['gender']==2].reset_index(drop=True)\n",
    "f_G = get_citibike_graph(f_df)[0]"
   ]
  },
  {
   "cell_type": "code",
   "execution_count": null,
   "metadata": {},
   "outputs": [],
   "source": []
  },
  {
   "cell_type": "markdown",
   "metadata": {},
   "source": [
    "<h1>STEP 5: Answer the following questions for each of the graphs</h1>\n",
    "<ol>\n",
    "<li>Which station (name) is the best connected (max degree)?\n",
    "<li>Travel between which pair of stations is the longest in terms of average duration between bike pickups and dropoffs. Report both the two stations as well as the time in minutes\n",
    "<li>Which edge is associated with the most number of trips?\n",
    "<li>Which station is the most central?\n",
    "<li>Which node is a bottleneck node?"
   ]
  },
  {
   "cell_type": "markdown",
   "metadata": {},
   "source": [
    "Which station (name) has the greatest number of connections (max degree)?"
   ]
  },
  {
   "cell_type": "code",
   "execution_count": 8,
   "metadata": {},
   "outputs": [
    {
     "name": "stdout",
     "output_type": "stream",
     "text": [
      "Busiest station for all: Pershing Square North\n",
      "Busiest station for males: Pershing Square North\n",
      "Busiest station for females: Pershing Square North\n"
     ]
    }
   ],
   "source": [
    "def max_station(network):\n",
    "    mst = max(list(network.degree()),key=lambda x : x[1])[0]\n",
    "    return nodes[mst]\n",
    "\n",
    "print(\"Busiest station for all: \" + max_station(G))\n",
    "print(\"Busiest station for males: \" + max_station(m_G))\n",
    "print(\"Busiest station for females: \" + max_station(f_G))\n"
   ]
  },
  {
   "cell_type": "markdown",
   "metadata": {},
   "source": [
    "Travel between which pair of stations is the longest in terms of average duration between bike pickups and dropoffs"
   ]
  },
  {
   "cell_type": "code",
   "execution_count": 9,
   "metadata": {},
   "outputs": [],
   "source": [
    "def max_time(network):\n",
    "    time_li = []\n",
    "    for edge in network.edges():\n",
    "        time_li.append((edge, network.get_edge_data(*edge)['time']))\n",
    "    return max(time_li,key=lambda x : x[1])"
   ]
  },
  {
   "cell_type": "code",
   "execution_count": 10,
   "metadata": {},
   "outputs": [
    {
     "name": "stdout",
     "output_type": "stream",
     "text": [
      "All: Longest avg duration is between Nassau St & Navy St and Hope St & Union Ave, 325167.48 minutes\n",
      "Male: Longest avg duration is between Nassau St & Navy St and Hope St & Union Ave, 325167.48 minutes\n",
      "Female: Longest avg duration is between Adelphi St & Myrtle Ave and NYCBS Depot - 3AV, 73698.82 minutes\n"
     ]
    }
   ],
   "source": [
    "print(\"All: Longest avg duration is between \" + nodes[max_time(G)[0][0]] + \" and \" + nodes[max_time(G)[0][1]] + \", \" + \"{:.2f}\".format(max_time(G)[1]/60) + \" minutes\")\n",
    "print(\"Male: Longest avg duration is between \" + nodes[max_time(m_G)[0][0]] + \" and \" + nodes[max_time(m_G)[0][1]] + \", \" + \"{:.2f}\".format(max_time(m_G)[1]/60) + \" minutes\")\n",
    "print(\"Female: Longest avg duration is between \" + nodes[max_time(f_G)[0][0]] + \" and \" + nodes[max_time(f_G)[0][1]] + \", \" + \"{:.2f}\".format(max_time(f_G)[1]/60) + \" minutes\")"
   ]
  },
  {
   "cell_type": "code",
   "execution_count": 11,
   "metadata": {},
   "outputs": [],
   "source": [
    "#Note: I've printed the max edges but you don't need to print them"
   ]
  },
  {
   "cell_type": "markdown",
   "metadata": {},
   "source": [
    "Which edge is associated with the most number of trips?"
   ]
  },
  {
   "cell_type": "code",
   "execution_count": 12,
   "metadata": {},
   "outputs": [],
   "source": [
    "def max_count(network):\n",
    "    count_li = []\n",
    "    for edge in network.edges():\n",
    "        count_li.append((edge, network.get_edge_data(*edge)['count']))\n",
    "    return max(count_li,key=lambda x : x[1])"
   ]
  },
  {
   "cell_type": "code",
   "execution_count": 13,
   "metadata": {},
   "outputs": [
    {
     "name": "stdout",
     "output_type": "stream",
     "text": [
      "All: Most number of trips is between E 7 St & Avenue A and Cooper Square & Astor Pl, 700trips\n",
      "Male: Most number of trips is between E 7 St & Avenue A and Cooper Square & Astor Pl, 533trips\n",
      "Female: Most number of trips is between E 7 St & Avenue A and Cooper Square & Astor Pl, 161trips\n"
     ]
    }
   ],
   "source": [
    "print(\"All: Most number of trips is between \" + nodes[max_count(G)[0][0]] + \" and \" + nodes[max_count(G)[0][1]] + \", \" + str(max_count(G)[1]) + \"trips\")\n",
    "print(\"Male: Most number of trips is between \" + nodes[max_count(m_G)[0][0]] + \" and \" + nodes[max_count(m_G)[0][1]] + \", \" + str(max_count(m_G)[1]) + \"trips\")\n",
    "print(\"Female: Most number of trips is between \" + nodes[max_count(f_G)[0][0]] + \" and \" + nodes[max_count(f_G)[0][1]] + \", \" + str(max_count(f_G)[1]) + \"trips\")"
   ]
  },
  {
   "cell_type": "markdown",
   "metadata": {},
   "source": [
    "<h2>Centrality</h2>\n",
    "One of the concerns that the citibike system has to deal with is ensuring that no station has empty slots (a bike should always be available) and that no station should have no empty slots (you should be able to return a bike). To do this, it needs to monitor the movement of bikes through the system, ideally using a directed graph. Though our graph is not directed, we can look at some network characteristics that will help us answer these questions. Note that the \"trips\" feature in edge data captures flows.\n",
    "<li>Which node is a possible bottleneck node in terms of bike flows?\n",
    "<li>Which node is the \"nearest\" to all other nodes (irrespective of flows)\n",
    "<li>Which node is the \"nearest\" to all other nodes (in terms of distance = time)\n"
   ]
  },
  {
   "cell_type": "code",
   "execution_count": 14,
   "metadata": {},
   "outputs": [
    {
     "name": "stdout",
     "output_type": "stream",
     "text": [
      "All: Bottleneck node is Wythe Ave & Metropolitan Ave\n",
      "Male: Bottleneck node is Wythe Ave & Metropolitan Ave\n",
      "Female: Bottleneck node is Kent Ave & N 7 St\n"
     ]
    }
   ],
   "source": [
    "#Which node is a possible bottleneck node in terms of bike flows?\n",
    "def bottleneck(network):\n",
    "    bottle = nx.betweenness_centrality(network,weight='count')\n",
    "    neck = max(bottle, key=bottle.get)\n",
    "    return neck\n",
    "\n",
    "print(\"All: Bottleneck node is \"+ nodes[bottleneck(G)])\n",
    "print(\"Male: Bottleneck node is \"+ nodes[bottleneck(m_G)])\n",
    "print(\"Female: Bottleneck node is \"+ nodes[bottleneck(f_G)])\n"
   ]
  },
  {
   "cell_type": "code",
   "execution_count": 15,
   "metadata": {},
   "outputs": [
    {
     "name": "stdout",
     "output_type": "stream",
     "text": [
      "All: Pershing Square North is nearest to all other nodes\n",
      "Male: Pershing Square North is nearest to all other nodes\n",
      "Female: Pershing Square North is nearest to all other nodes\n"
     ]
    }
   ],
   "source": [
    "#Which node is the \"nearest\" to all other nodes (irrespective of flows)\n",
    "def center(network):\n",
    "    cc = nx.closeness_centrality(network)\n",
    "    c = max(cc, key=cc.get)\n",
    "    return c\n",
    "\n",
    "print(\"All: \" + nodes[center(G)] + \" is nearest to all other nodes\")\n",
    "print(\"Male: \" + nodes[center(m_G)] + \" is nearest to all other nodes\")\n",
    "print(\"Female: \" + nodes[center(f_G)] + \" is nearest to all other nodes\")"
   ]
  },
  {
   "cell_type": "code",
   "execution_count": 16,
   "metadata": {},
   "outputs": [
    {
     "name": "stdout",
     "output_type": "stream",
     "text": [
      "All: E 4 St & 2 Ave is nearest to all other nodes(distance=time)\n",
      "Male: E 2 St & 2 Ave is nearest to all other nodes(distance=time)\n",
      "Female: Stanton St & Chrystie St is nearest to all other nodes(distance=time)\n"
     ]
    }
   ],
   "source": [
    "#Which node is the \"nearest\" to all other nodes (in terms of distance = time)\n",
    "def center_time(network):\n",
    "    cc = nx.closeness_centrality(network, distance = 'time')\n",
    "    c = max(cc, key=cc.get)\n",
    "    return c\n",
    "\n",
    "print(\"All: \" + nodes[center_time(G)] + \" is nearest to all other nodes(distance=time)\")\n",
    "print(\"Male: \" + nodes[center_time(m_G)] + \" is nearest to all other nodes(distance=time)\")\n",
    "print(\"Female: \" + nodes[center_time(f_G)] + \" is nearest to all other nodes(distance=time)\")"
   ]
  },
  {
   "cell_type": "code",
   "execution_count": null,
   "metadata": {},
   "outputs": [],
   "source": []
  },
  {
   "cell_type": "code",
   "execution_count": null,
   "metadata": {},
   "outputs": [],
   "source": []
  }
 ],
 "metadata": {
  "kernelspec": {
   "display_name": "Python 3",
   "language": "python",
   "name": "python3"
  },
  "language_info": {
   "codemirror_mode": {
    "name": "ipython",
    "version": 3
   },
   "file_extension": ".py",
   "mimetype": "text/x-python",
   "name": "python",
   "nbconvert_exporter": "python",
   "pygments_lexer": "ipython3",
   "version": "3.8.3"
  }
 },
 "nbformat": 4,
 "nbformat_minor": 2
}
