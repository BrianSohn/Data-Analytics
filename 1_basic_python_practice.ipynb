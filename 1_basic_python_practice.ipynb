{
 "cells": [
  {
   "cell_type": "markdown",
   "metadata": {},
   "source": [
    "<h1>Problem 1: Part 1</h1>"
   ]
  },
  {
   "cell_type": "code",
   "execution_count": 1,
   "metadata": {},
   "outputs": [],
   "source": [
    "def preceding(char):\n",
    "    coded_char = '' #Your code will figure out what the value of coded_char should be\n",
    "    \n",
    "    if (ord(char) == 65) or (ord(char) == 97): \n",
    "        coded_char = chr(ord(char)+25)\n",
    "    elif (65 < ord(char) <= ord('Z')) or (97 < ord(char) <= ord('z')):\n",
    "        coded_char = chr(ord(char) - 1)\n",
    "    else: \n",
    "        coded_char = char\n",
    "    \n",
    "    return coded_char"
   ]
  },
  {
   "cell_type": "code",
   "execution_count": 2,
   "metadata": {},
   "outputs": [
    {
     "name": "stdout",
     "output_type": "stream",
     "text": [
      "z\n",
      "a\n",
      "!\n"
     ]
    }
   ],
   "source": [
    "print(preceding('a')) #Should print z\n",
    "print(preceding('b')) #Should print a\n",
    "print(preceding('!')) #Should print !"
   ]
  },
  {
   "cell_type": "markdown",
   "metadata": {},
   "source": [
    "<h1>Problem 1: Part 2</h1>\n"
   ]
  },
  {
   "cell_type": "code",
   "execution_count": 3,
   "metadata": {},
   "outputs": [],
   "source": [
    "def succeeding(char):\n",
    "    coded_char = '' #Your code will figure out what the value of coded_char should be\n",
    "    \n",
    "    if (ord(char) == 65+25) or (ord(char) == 97+25): \n",
    "        coded_char = chr(ord(char)-25)\n",
    "    elif (65 <= ord(char) < ord('Z')) or (97 <= ord(char) < ord('z')) :\n",
    "        coded_char = chr(ord(char) + 1)\n",
    "    else: \n",
    "        coded_char = char\n",
    "    \n",
    "    \n",
    "    return coded_char    "
   ]
  },
  {
   "cell_type": "code",
   "execution_count": 4,
   "metadata": {},
   "outputs": [
    {
     "name": "stdout",
     "output_type": "stream",
     "text": [
      "a\n",
      "c\n",
      "!\n"
     ]
    }
   ],
   "source": [
    "print(succeeding('z')) #Should print a\n",
    "print(succeeding('b')) #Should print c\n",
    "print(succeeding('!')) #Should print !"
   ]
  },
  {
   "cell_type": "markdown",
   "metadata": {},
   "source": [
    "<h1>Problem 1: Part 3</h1>"
   ]
  },
  {
   "cell_type": "code",
   "execution_count": 5,
   "metadata": {},
   "outputs": [],
   "source": [
    "def message_coder(message_string,function):\n",
    "    coded_message = ''\n",
    "    \n",
    "    for char in list(message_string):\n",
    "        coded_message += function(char)\n",
    "        \n",
    "    return coded_message"
   ]
  },
  {
   "cell_type": "markdown",
   "metadata": {},
   "source": [
    "<h3>Test <b>preceding</b> and <b>succeeding</b> and <b>message_coder</h3>"
   ]
  },
  {
   "cell_type": "code",
   "execution_count": 6,
   "metadata": {},
   "outputs": [
    {
     "name": "stdout",
     "output_type": "stream",
     "text": [
      "gdkkn cnkkx ydaqz!\n",
      "ifmmp epmmz afcsb!\n"
     ]
    }
   ],
   "source": [
    "print(message_coder('hello dolly zebra!',preceding))# prints 'gdkkn cnkkx ydaqz!’\n",
    "\n",
    "print(message_coder('hello dolly zebra!',succeeding))# prints 'ifmmp epmmz afcsb!’\n"
   ]
  },
  {
   "cell_type": "markdown",
   "metadata": {},
   "source": [
    "<h1>Problem 2: Word Count</h2>"
   ]
  },
  {
   "cell_type": "code",
   "execution_count": 30,
   "metadata": {},
   "outputs": [],
   "source": [
    "def word_distribution(text_string,word_list=[]):\n",
    "    frequency_dict = dict()\n",
    "    \n",
    "    # remove punctuation, convert to lowercase\n",
    "    text_string_final_list = []\n",
    "    for word in text_string.split():\n",
    "        if not((65 <= ord(word[-1]) <= 90) or (97 <= ord(word[-1]) <= 122)):\n",
    "            word = word[:-1]\n",
    "        text_string_final_list.append(word.lower())\n",
    "    \n",
    "    # when word_list is not given\n",
    "    if not word_list: \n",
    "        for word in text_string_final_list:\n",
    "            if not frequency_dict.get(word):\n",
    "                frequency_dict[word] = 1\n",
    "            else:\n",
    "                frequency_dict[word] += 1\n",
    "    # when word list is given\n",
    "    else: \n",
    "        for word in word_list: \n",
    "            word = word.lower()\n",
    "            frequency_dict[word] = 0\n",
    "        for word in text_string_final_list: \n",
    "            if frequency_dict.get(word) is not None:\n",
    "                frequency_dict[word] += 1\n",
    "    \n",
    "    \n",
    "    \n",
    "    return frequency_dict\n"
   ]
  },
  {
   "cell_type": "markdown",
   "metadata": {},
   "source": [
    "<h3>Test <b>word_distribution</b></h3>\n"
   ]
  },
  {
   "cell_type": "code",
   "execution_count": 31,
   "metadata": {},
   "outputs": [
    {
     "name": "stdout",
     "output_type": "stream",
     "text": [
      "{'hello': 2, 'how': 1, 'are': 1, 'you': 2, 'please': 1, 'say': 1, 'if': 1, 'don’t': 1, 'love': 1, 'me': 1}\n"
     ]
    }
   ],
   "source": [
    "text_string = \"Hello. How are you? Please say hello if you don’t love me!\"\n",
    "print(word_distribution(text_string)) #should print {‘hello’: 2, ‘how’:1, ‘are’:1, ‘you’:2,’please’:1, “don’t”: 1 …}\n"
   ]
  },
  {
   "cell_type": "code",
   "execution_count": 32,
   "metadata": {},
   "outputs": [
    {
     "name": "stdout",
     "output_type": "stream",
     "text": [
      "{'i': 3, 'saw': 1, 'britain': 0}\n"
     ]
    }
   ],
   "source": [
    "text_string = 'I came, I saw, I conquered!'\n",
    "print(word_distribution(text_string,word_list=['I','saw','Britain'])) # prints {‘i’:3,’saw’:1,’britain':0}\n"
   ]
  },
  {
   "cell_type": "code",
   "execution_count": null,
   "metadata": {},
   "outputs": [],
   "source": []
  }
 ],
 "metadata": {
  "kernelspec": {
   "display_name": "Python 3",
   "language": "python",
   "name": "python3"
  },
  "language_info": {
   "codemirror_mode": {
    "name": "ipython",
    "version": 3
   },
   "file_extension": ".py",
   "mimetype": "text/x-python",
   "name": "python",
   "nbconvert_exporter": "python",
   "pygments_lexer": "ipython3",
   "version": "3.8.3"
  }
 },
 "nbformat": 4,
 "nbformat_minor": 2
}
